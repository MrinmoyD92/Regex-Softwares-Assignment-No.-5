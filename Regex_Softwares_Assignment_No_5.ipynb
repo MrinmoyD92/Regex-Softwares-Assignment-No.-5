{
  "nbformat": 4,
  "nbformat_minor": 0,
  "metadata": {
    "colab": {
      "name": "Regex Softwares Assignment No. 5.ipynb",
      "provenance": []
    },
    "kernelspec": {
      "name": "python3",
      "display_name": "Python 3"
    },
    "language_info": {
      "name": "python"
    }
  },
  "cells": [
    {
      "cell_type": "markdown",
      "metadata": {
        "id": "4vWEmYTii-aO"
      },
      "source": [
        "## Name: Mrinmoy M. Dutta\n",
        "## Referral ID: SIRSS2103\n",
        "## College: SIES college of Arts, Science and Commerce"
      ]
    },
    {
      "cell_type": "code",
      "metadata": {
        "colab": {
          "base_uri": "https://localhost:8080/"
        },
        "id": "fy1VoGpSjS9S",
        "outputId": "9360db9e-842f-4d0e-eec1-8c16bbde9af0"
      },
      "source": [
        "def sum(pr_nums):\n",
        "    m=0\n",
        "    for n in lst:\n",
        "        i=2\n",
        "        j=1\n",
        "        while i<=n/2:\n",
        "            if n % i == 0:\n",
        "                j = 0\n",
        "                break\n",
        "            i=i+1\n",
        "        if j == 1:\n",
        "            m=m+n\n",
        "    return m\n",
        "\n",
        "pr_nums = [4,7,5,11,2,3,8,9,16,21,22,25,14,19]\n",
        "output = sum(pr_nums)\n",
        "\n",
        "print(\"Sum of prime numbers in given list are\", output)"
      ],
      "execution_count": 10,
      "outputs": [
        {
          "output_type": "stream",
          "name": "stdout",
          "text": [
            "Sum of prime numbers in given list are 47\n"
          ]
        }
      ]
    },
    {
      "cell_type": "code",
      "metadata": {
        "colab": {
          "base_uri": "https://localhost:8080/"
        },
        "id": "W12ptAP6kflh",
        "outputId": "0e7eb050-4423-41f1-a6d0-f96d1ebe2c36"
      },
      "source": [
        "nums=[1,2,3,4,5,6,7,8,9]\n",
        "print('Original List :'+str(nums))\n",
        "a = all(i<j for i,j in zip(nums,nums[1:]))\n",
        "print(\"Is the list increasing :\"+str(a))"
      ],
      "execution_count": 11,
      "outputs": [
        {
          "output_type": "stream",
          "name": "stdout",
          "text": [
            "Original List :[1, 2, 3, 4, 5, 6, 7, 8, 9]\n",
            "Is the list increasing :True\n"
          ]
        }
      ]
    },
    {
      "cell_type": "code",
      "metadata": {
        "colab": {
          "base_uri": "https://localhost:8080/"
        },
        "id": "f596KHRjlz0f",
        "outputId": "09537de3-8bad-4257-d3a3-68dfa5e82b96"
      },
      "source": [
        "def expand(l):\n",
        "    difference = abs(l[1] - l[0])\n",
        "    \n",
        "    for i in range(1,len(l)-1):\n",
        "        temp = abs(l[i+1] - l[i])\n",
        "        \n",
        "        if temp < difference:\n",
        "            return False\n",
        "        else:\n",
        "            difference = temp\n",
        "            \n",
        "    return True\n",
        "l=[2,4,5,6,8]\n",
        "expand(l)"
      ],
      "execution_count": 12,
      "outputs": [
        {
          "output_type": "execute_result",
          "data": {
            "text/plain": [
              "False"
            ]
          },
          "metadata": {},
          "execution_count": 12
        }
      ]
    },
    {
      "cell_type": "code",
      "metadata": {
        "colab": {
          "base_uri": "https://localhost:8080/"
        },
        "id": "7Rz1-N_BmBWn",
        "outputId": "44bbdab2-4f79-4eab-a7d2-66ce9d5589d1"
      },
      "source": [
        "def permutation(a,b):\n",
        "    if(len(a) == 0):\n",
        "        print(b, end=\" \")\n",
        "        return\n",
        "    for i in range(len(a)):\n",
        "        c = a[i]\n",
        "        d = a[0:i]\n",
        "        e = a[i + 1:]\n",
        "        f = d + e\n",
        "        permutation(f,b+c)\n",
        "        \n",
        "b=\"\"\n",
        "a=input(\"Enter the string :\")\n",
        "print(\"All possible words are :\")\n",
        "permutation(a,b)"
      ],
      "execution_count": 13,
      "outputs": [
        {
          "output_type": "stream",
          "name": "stdout",
          "text": [
            "Enter the string :mrin\n",
            "All possible words are :\n",
            "mrin mrni mirn minr mnri mnir rmin rmni rimn rinm rnmi rnim imrn imnr irmn irnm inmr inrm nmri nmir nrmi nrim nimr nirm "
          ]
        }
      ]
    }
  ]
}